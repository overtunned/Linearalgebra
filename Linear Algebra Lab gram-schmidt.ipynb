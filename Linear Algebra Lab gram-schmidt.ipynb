{
 "cells": [
  {
   "cell_type": "markdown",
   "metadata": {},
   "source": [
    "# Orthonormal Vectors"
   ]
  },
  {
   "cell_type": "code",
   "execution_count": 1,
   "metadata": {},
   "outputs": [
    {
     "name": "stdout",
     "output_type": "stream",
     "text": [
      "Orthonormal basis [ 0.9486833   0.         -0.31622777] [-0.16903085  0.84515425 -0.50709255]\n"
     ]
    }
   ],
   "source": [
    "import numpy as np\n",
    "import sympy as sym\n",
    "\n",
    "v1=[3,0,-1]\n",
    "v2=[8,5,-6]\n",
    "\n",
    "u1=v1\n",
    "\n",
    "e1=u1/np.sqrt(np.dot(u1,u1))\n",
    "\n",
    "pv2=(np.dot(u1,v2)/np.dot(u1,u1))\n",
    "\n",
    "u2=v2-np.dot(pv2,u1)\n",
    "\n",
    "e2=u2/np.sqrt(np.dot(u2,u2))\n",
    "\n",
    "print(\"Orthonormal basis\",e1 ,e2)"
   ]
  },
  {
   "cell_type": "code",
   "execution_count": 2,
   "metadata": {},
   "outputs": [
    {
     "name": "stdout",
     "output_type": "stream",
     "text": [
      "[0.         0.89442719 0.4472136 ]\n",
      "[ 0.48795004  0.39036003 -0.78072006]\n"
     ]
    }
   ],
   "source": [
    "import numpy as np\n",
    "import sympy as sym\n",
    "\n",
    "v1=[0,4,2]\n",
    "v2=[5,6,-7]\n",
    "\n",
    "u1=v1\n",
    "\n",
    "e1=u1/np.sqrt(np.dot(u1,u1))\n",
    "\n",
    "pv2=(np.dot(u1,v2)/np.dot(u1,u1))\n",
    "\n",
    "u2=v2-np.dot(pv2,u1)\n",
    "\n",
    "e2=u2/np.sqrt(np.dot(u2,u2))\n",
    "\n",
    "print(e1)\n",
    "print(e2)"
   ]
  },
  {
   "cell_type": "code",
   "execution_count": 3,
   "metadata": {},
   "outputs": [
    {
     "name": "stdout",
     "output_type": "stream",
     "text": [
      "[ 0.36514837 -0.91287093  0.18257419]\n",
      "[0.81649658 0.40824829 0.40824829]\n"
     ]
    }
   ],
   "source": [
    "import numpy as np\n",
    "import sympy as sym\n",
    "\n",
    "v1=[2,-5,1]\n",
    "v2=[4,-1,2]\n",
    "\n",
    "u1=v1\n",
    "\n",
    "e1=u1/np.sqrt(np.dot(u1,u1))\n",
    "\n",
    "pv2=(np.dot(u1,v2)/np.dot(u1,u1))\n",
    "\n",
    "u2=v2-np.dot(pv2,u1)\n",
    "\n",
    "e2=u2/np.sqrt(np.dot(u2,u2))\n",
    "\n",
    "print(e1)\n",
    "print(e2)"
   ]
  },
  {
   "cell_type": "code",
   "execution_count": 4,
   "metadata": {},
   "outputs": [
    {
     "name": "stdout",
     "output_type": "stream",
     "text": [
      "[ 0.42426407 -0.56568542  0.70710678]\n",
      "[0.40824829 0.81649658 0.40824829]\n"
     ]
    }
   ],
   "source": [
    "import numpy as np\n",
    "import sympy as sym\n",
    "\n",
    "v1=[3,-4,5]\n",
    "v2=[-3,14,-7]\n",
    "\n",
    "u1=v1\n",
    "\n",
    "e1=u1/np.sqrt(np.dot(u1,u1))\n",
    "\n",
    "pv2=(np.dot(u1,v2)/np.dot(u1,u1))\n",
    "\n",
    "u2=v2-np.dot(pv2,u1)\n",
    "\n",
    "e2=u2/np.sqrt(np.dot(u2,u2))\n",
    "\n",
    "print(e1)\n",
    "print(e2)"
   ]
  },
  {
   "cell_type": "code",
   "execution_count": 5,
   "metadata": {},
   "outputs": [
    {
     "name": "stdout",
     "output_type": "stream",
     "text": [
      "[ 0.23570226 -0.94280904  0.          0.23570226]\n",
      "[ 0.76249285  0.15249857 -0.60999428 -0.15249857]\n"
     ]
    }
   ],
   "source": [
    "import numpy as np\n",
    "import sympy as sym\n",
    "\n",
    "v1=[1,-4,0,1]\n",
    "v2=[7,-7,-4,1]\n",
    "\n",
    "u1=v1\n",
    "\n",
    "e1=u1/np.sqrt(np.dot(u1,u1))\n",
    "\n",
    "pv2=(np.dot(u1,v2)/np.dot(u1,u1))\n",
    "\n",
    "u2=v2-np.dot(pv2,u1)\n",
    "\n",
    "e2=u2/np.sqrt(np.dot(u2,u2))\n",
    "\n",
    "print(e1)\n",
    "print(e2)"
   ]
  },
  {
   "cell_type": "code",
   "execution_count": 6,
   "metadata": {},
   "outputs": [
    {
     "name": "stdout",
     "output_type": "stream",
     "text": [
      "[ 0.77459667 -0.25819889  0.51639778 -0.25819889]\n",
      "[ 0.51214752  0.76822128 -0.38411064  0.        ]\n"
     ]
    }
   ],
   "source": [
    "import numpy as np\n",
    "import sympy as sym\n",
    "\n",
    "v1=[3,-1,2,-1]\n",
    "v2=[-5,9,-9,3]\n",
    "\n",
    "u1=v1\n",
    "\n",
    "e1=u1/np.sqrt(np.dot(u1,u1))\n",
    "\n",
    "pv2=(np.dot(u1,v2)/np.dot(u1,u1))\n",
    "\n",
    "u2=v2-np.dot(pv2,u1)\n",
    "\n",
    "e2=u2/np.sqrt(np.dot(u2,u2))\n",
    "\n",
    "\n",
    "\n",
    "print(e1)\n",
    "print(e2)"
   ]
  },
  {
   "cell_type": "markdown",
   "metadata": {},
   "source": [
    "# Orthogonal Vectors for column space"
   ]
  },
  {
   "cell_type": "code",
   "execution_count": 7,
   "metadata": {},
   "outputs": [
    {
     "name": "stdout",
     "output_type": "stream",
     "text": [
      "[ 3  1 -1  3]\n",
      "[ 1.  3.  3. -1.]\n",
      "[-3.  1.  1.  3.]\n"
     ]
    }
   ],
   "source": [
    "A=[[3,-5,1],\n",
    "  [1,1,1],\n",
    "  [-1,5,-2],\n",
    "  [3,-7,8]]\n",
    "\n",
    "B,i= sym.Matrix(A).rref()\n",
    "\n",
    "C=np.array(A)[:,i]\n",
    "\n",
    "v1=C[:,0]\n",
    "v2=C[:,1]\n",
    "v3=C[:,2]\n",
    "\n",
    "\n",
    "u1=v1\n",
    "\n",
    "e1=u1/np.sqrt(np.dot(u1,u1))\n",
    "\n",
    "\n",
    "\n",
    "pv2u1= np.dot(u1,v2)/np.dot(u1,u1)\n",
    "\n",
    "u2=v2-np.dot(pv2u1,u1)\n",
    "\n",
    "e2=u2/np.sqrt(np.dot(u2,u2))\n",
    "\n",
    "\n",
    "\n",
    "\n",
    "pv3u1= np.dot(u1,v3)/np.dot(u1,u1)\n",
    "\n",
    "pv3u2= np.dot(u2,v3)/np.dot(u2,u2)\n",
    "\n",
    "u3=v3-np.dot(pv3u1,u1)-np.dot(pv3u2,u2)\n",
    "\n",
    "e3=u3/np.sqrt(np.dot(u3,u3))\n",
    "\n",
    "print(u1)\n",
    "print(u2)\n",
    "print(u3)"
   ]
  },
  {
   "cell_type": "code",
   "execution_count": 8,
   "metadata": {},
   "outputs": [
    {
     "name": "stdout",
     "output_type": "stream",
     "text": [
      "[-1  3  1  1]\n",
      "[ 3.  1.  1. -1.]\n",
      "[-1. -1.  3. -1.]\n"
     ]
    }
   ],
   "source": [
    "A=[[-1,6,6],\n",
    "  [3,-8,3],\n",
    "  [1,-2,6],\n",
    "  [1,-4,-3]]\n",
    "\n",
    "B,i= sym.Matrix(A).rref()\n",
    "\n",
    "C=np.array(A)[:,i]\n",
    "\n",
    "v1=C[:,0]\n",
    "v2=C[:,1]\n",
    "v3=C[:,2]\n",
    "\n",
    "\n",
    "u1=v1\n",
    "\n",
    "e1=u1/np.dot(u1,u1)\n",
    "\n",
    "\n",
    "\n",
    "\n",
    "pv2u1= np.dot(u1,v2)/np.dot(u1,u1)\n",
    "\n",
    "u2=v2-np.dot(pv2u1,u1)\n",
    "\n",
    "e2=u2/np.sqrt(np.dot(u2,u2))\n",
    "\n",
    "\n",
    "\n",
    "\n",
    "pv3u1= np.dot(u1,v3)/np.dot(u1,u1)\n",
    "\n",
    "pv3u2= np.dot(u2,v3)/np.dot(u2,u2)\n",
    "\n",
    "u3=v3-np.dot(pv3u1,u1)-np.dot(pv3u2,u2)\n",
    "\n",
    "e3=u3/np.sqrt(np.dot(u3,u3))\n",
    "\n",
    "\n",
    "print(u1)\n",
    "print(u2)\n",
    "print(u3)"
   ]
  },
  {
   "cell_type": "code",
   "execution_count": 9,
   "metadata": {},
   "outputs": [
    {
     "name": "stdout",
     "output_type": "stream",
     "text": [
      "[ 1 -1 -1  1  1]\n",
      "[ 3.  0.  3. -3.  3.]\n",
      "[ 2.  0.  2.  2. -2.]\n"
     ]
    }
   ],
   "source": [
    "A=[[1,2,5],\n",
    "  [-1,1,-4],\n",
    "  [-1,4,-3],\n",
    "  [1,-4,7],\n",
    "  [1,2,1]]\n",
    "\n",
    "B,i= sym.Matrix(A).rref()\n",
    "\n",
    "C=np.array(A)[:,i]\n",
    "\n",
    "v1=C[:,0]\n",
    "v2=C[:,1]\n",
    "v3=C[:,2]\n",
    "\n",
    "\n",
    "u1=v1\n",
    "\n",
    "e1=u1/np.dot(u1,u1)\n",
    "\n",
    "\n",
    "\n",
    "\n",
    "pv2u1= np.dot(u1,v2)/np.dot(u1,u1)\n",
    "\n",
    "u2=v2-np.dot(pv2u1,u1)\n",
    "\n",
    "e2=u2/np.sqrt(np.dot(u2,u2))\n",
    "\n",
    "\n",
    "\n",
    "\n",
    "pv3u1= np.dot(u1,v3)/np.dot(u1,u1)\n",
    "\n",
    "pv3u2= np.dot(u2,v3)/np.dot(u2,u2)\n",
    "\n",
    "u3=v3-np.dot(pv3u1,u1)-np.dot(pv3u2,u2)\n",
    "\n",
    "e3=u3/np.sqrt(np.dot(u3,u3))\n",
    "\n",
    "\n",
    "print(u1)\n",
    "print(u2)\n",
    "print(u3)"
   ]
  },
  {
   "cell_type": "code",
   "execution_count": 10,
   "metadata": {},
   "outputs": [
    {
     "name": "stdout",
     "output_type": "stream",
     "text": [
      "[ 1 -1  0  1  1]\n",
      "[-1.  1.  2.  1.  1.]\n",
      "[ 3.  3.  0. -3.  3.]\n"
     ]
    }
   ],
   "source": [
    "A=[[1,3,5],\n",
    "  [-1,-3,1],\n",
    "  [0,2,3],\n",
    "  [1,5,2],\n",
    "  [1,5,8]]\n",
    "\n",
    "B,i= sym.Matrix(A).rref()\n",
    "\n",
    "C=np.array(A)[:,i]\n",
    "\n",
    "v1=C[:,0]\n",
    "v2=C[:,1]\n",
    "v3=C[:,2]\n",
    "\n",
    "\n",
    "u1=v1\n",
    "\n",
    "e1=u1/np.dot(u1,u1)\n",
    "\n",
    "\n",
    "\n",
    "\n",
    "pv2u1= np.dot(u1,v2)/np.dot(u1,u1)\n",
    "\n",
    "u2=v2-np.dot(pv2u1,u1)\n",
    "\n",
    "e2=u2/np.sqrt(np.dot(u2,u2))\n",
    "\n",
    "\n",
    "\n",
    "\n",
    "pv3u1= np.dot(u1,v3)/np.dot(u1,u1)\n",
    "\n",
    "pv3u2= np.dot(u2,v3)/np.dot(u2,u2)\n",
    "\n",
    "u3=v3-np.dot(pv3u1,u1)-np.dot(pv3u2,u2)\n",
    "\n",
    "e3=u3/np.sqrt(np.dot(u3,u3))\n",
    "\n",
    "\n",
    "print(u1)\n",
    "print(u2)\n",
    "print(u3)"
   ]
  },
  {
   "cell_type": "markdown",
   "metadata": {},
   "source": [
    "# QR Decomposition"
   ]
  },
  {
   "cell_type": "code",
   "execution_count": 11,
   "metadata": {},
   "outputs": [
    {
     "name": "stdout",
     "output_type": "stream",
     "text": [
      "(Q.T)Q=I\n",
      "\n",
      " [[1.00000000000000 0]\n",
      " [0 1.00000000000000]]\n",
      "\n",
      "\n",
      "R=\n",
      " [[6.00000000000000 12.0000000000000]\n",
      " [1.11022302462516e-16 6.00000000000000]]\n",
      "\n",
      "\n",
      "Matrix A=\n",
      "\n",
      " [[5 9]\n",
      " [1 7]\n",
      " [-3 -5]\n",
      " [1 5]]\n",
      "\n",
      "\n",
      "A=QR\n",
      "\n",
      " [[5.00000000000000 9.00000000000000]\n",
      " [1.00000000000000 7.00000000000000]\n",
      " [-3.00000000000000 -5.00000000000000]\n",
      " [1.00000000000000 5.00000000000000]]\n"
     ]
    }
   ],
   "source": [
    "A=[[5,9],\n",
    "  [1,7],\n",
    "  [-3,-5],\n",
    "  [1,5]]\n",
    "A=sym.Matrix(A)\n",
    "Q=[[5/6,-1/6],\n",
    "  [1/6,5/6],\n",
    "  [-3/6,1/6],\n",
    "  [1/6,3/6]]\n",
    "Q=sym.Matrix(Q)\n",
    "\n",
    "print(\"(Q.T)Q=I\\n\\n\",np.matmul(Q.T,Q))\n",
    "\n",
    "R=np.matmul(Q.T,A)\n",
    "\n",
    "print(\"\\n\\nR=\\n\",R)\n",
    "\n",
    "print(\"\\n\\nMatrix A=\\n\\n\",np.array(A))\n",
    "\n",
    "print(\"\\n\\nA=QR\\n\\n\",np.matmul(Q,R))"
   ]
  },
  {
   "cell_type": "code",
   "execution_count": 12,
   "metadata": {},
   "outputs": [
    {
     "name": "stdout",
     "output_type": "stream",
     "text": [
      "(Q.T)Q=I\n",
      "\n",
      " [[1.00000000000000 0]\n",
      " [0 1.00000000000000]]\n",
      "\n",
      "\n",
      "R=\n",
      " [[7.00000000000000 7.00000000000000]\n",
      " [-2.22044604925031e-16 7.00000000000000]]\n",
      "\n",
      "\n",
      "Matrix A=\n",
      "\n",
      " [[-2 3]\n",
      " [5 7]\n",
      " [2 -2]\n",
      " [4 6]]\n",
      "\n",
      "\n",
      "A=QR\n",
      "\n",
      " [[-2.00000000000000 3.00000000000000]\n",
      " [5.00000000000000 7.00000000000000]\n",
      " [2.00000000000000 -2.00000000000000]\n",
      " [4.00000000000000 6.00000000000000]]\n"
     ]
    }
   ],
   "source": [
    "A=[[-2,3],\n",
    "  [5,7],\n",
    "  [2,-2],\n",
    "  [4,6]]\n",
    "A=sym.Matrix(A)\n",
    "Q=[[-2/7,5/7],\n",
    "  [5/7,2/7],\n",
    "  [2/7,-4/7],\n",
    "  [4/7,2/7]]\n",
    "Q=sym.Matrix(Q)\n",
    "\n",
    "print(\"(Q.T)Q=I\\n\\n\",np.matmul(Q.T,Q))\n",
    "\n",
    "R=np.matmul(Q.T,A)\n",
    "\n",
    "print(\"\\n\\nR=\\n\",R)\n",
    "\n",
    "print(\"\\n\\nMatrix A=\\n\\n\",np.array(A))\n",
    "\n",
    "print(\"\\n\\nA=QR\\n\\n\",np.matmul(Q,R))"
   ]
  }
 ],
 "metadata": {
  "kernelspec": {
   "display_name": "Python 3",
   "language": "python",
   "name": "python3"
  },
  "language_info": {
   "codemirror_mode": {
    "name": "ipython",
    "version": 3
   },
   "file_extension": ".py",
   "mimetype": "text/x-python",
   "name": "python",
   "nbconvert_exporter": "python",
   "pygments_lexer": "ipython3",
   "version": "3.8.3"
  }
 },
 "nbformat": 4,
 "nbformat_minor": 4
}
