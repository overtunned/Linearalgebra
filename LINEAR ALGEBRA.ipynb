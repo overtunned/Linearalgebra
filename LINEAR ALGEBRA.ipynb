{
 "cells": [
  {
   "cell_type": "code",
   "execution_count": 9,
   "metadata": {},
   "outputs": [
    {
     "name": "stdout",
     "output_type": "stream",
     "text": [
      "Object `rref` not found.\n"
     ]
    },
    {
     "data": {
      "text/plain": [
       "(Matrix([\n",
       " [1, 0, -1],\n",
       " [0, 1,  2]]),\n",
       " (0, 1))"
      ]
     },
     "execution_count": 9,
     "metadata": {},
     "output_type": "execute_result"
    }
   ],
   "source": [
    "#Matrix().rref()\n",
    "\n",
    "import sympy as sym\n",
    "\n",
    "sympy.Matrix([[1,2,3],[2,3,4]]).rref()"
   ]
  },
  {
   "cell_type": "code",
   "execution_count": 1,
   "metadata": {},
   "outputs": [
    {
     "name": "stdout",
     "output_type": "stream",
     "text": [
      "\n",
      "Reduced Row Echelon Form: \n",
      " Matrix([[1, 0, 0, 1], [0, 1, 0, -2], [0, 0, 1, 1], [0, 0, 0, 0]])\n",
      "\n",
      "Pivotal Columns: \n",
      " (0, 1, 2)\n"
     ]
    }
   ],
   "source": [
    "# Reduced Row echelon\n",
    "\n",
    "import sympy as sym\n",
    "\n",
    "A = ([[8,-4,-7,9], [-4,3,6,-4],[-3,-2,-5,-4],[9,-8,-18,7]])\n",
    "\n",
    "\n",
    "B,i = sym.Matrix(A).rref()\n",
    "\n",
    "print(\"\\nReduced Row Echelon Form: \\n\",B)\n",
    "\n",
    "print(\"\\nPivotal Columns: \\n\",i)"
   ]
  },
  {
   "cell_type": "code",
   "execution_count": 2,
   "metadata": {},
   "outputs": [
    {
     "name": "stdout",
     "output_type": "stream",
     "text": [
      "Matrix([[1, -3, 0, -14, 0, -37], [0, 0, 1, 3, 0, 4], [0, 0, 0, 0, 1, 5], [0, 0, 0, 0, 0, 0]])\n",
      "(0, 2, 4)\n",
      "3\n",
      "\n",
      "Row Space: \n",
      " [[1 -3 0 -14 0 -37]\n",
      " [0 0 1 3 0 4]\n",
      " [0 0 0 0 1 5]]\n",
      "\n",
      "Column Space of A: \n",
      " [[ 1  4  5]\n",
      " [ 2  9  8]\n",
      " [ 2  9  9]\n",
      " [-1 -4 -5]]\n"
     ]
    },
    {
     "data": {
      "text/latex": [
       "$\\displaystyle \\left[\\begin{matrix}1 & -3 & 0 & -14 & 0 & -37\\\\0 & 0 & 1 & 3 & 0 & 4\\\\0 & 0 & 0 & 0 & 1 & 5\\\\0 & 0 & 0 & 0 & 0 & 0\\end{matrix}\\right]$"
      ],
      "text/plain": [
       "Matrix([\n",
       "[1, -3, 0, -14, 0, -37],\n",
       "[0,  0, 1,   3, 0,   4],\n",
       "[0,  0, 0,   0, 1,   5],\n",
       "[0,  0, 0,   0, 0,   0]])"
      ]
     },
     "execution_count": 2,
     "metadata": {},
     "output_type": "execute_result"
    }
   ],
   "source": [
    "# Reduced Row Echelon form\n",
    "\n",
    "import sympy as sym\n",
    "\n",
    "import numpy as np\n",
    "\n",
    "A = [[1,-3,4,-2,5,4],[2,-6,9,-1,8,2],[2,-6,9,-1,9,7],[-1,3,-4,2,-5,-4]]\n",
    "\n",
    "B,i = sym.Matrix(A).rref()\n",
    "\n",
    "print(B)\n",
    "\n",
    "print(i)\n",
    "\n",
    "print(len(i))\n",
    "\n",
    "# Row Space of A\n",
    "\n",
    "R = np.array(B)\n",
    "\n",
    "print(\"\\nRow Space: \\n\",R[:len(i),:])\n",
    "\n",
    "# Column space of A\n",
    "\n",
    "C = np.array(A)\n",
    "\n",
    "print(\"\\nColumn Space of A: \\n\",C[:,i])\n",
    "B"
   ]
  },
  {
   "cell_type": "code",
   "execution_count": 3,
   "metadata": {},
   "outputs": [
    {
     "name": "stdout",
     "output_type": "stream",
     "text": [
      "Matrix([[1, 0, 1, 0, 1], [0, 1, -2, 0, 3], [0, 0, 0, 1, -5], [0, 0, 0, 0, 0]])\n",
      "(0, 1, 3)\n",
      "3\n",
      "\n",
      "Row Space: \n",
      " [[1 0 1 0 1]\n",
      " [0 1 -2 0 3]\n",
      " [0 0 0 1 -5]]\n",
      "\n",
      "Column Space: \n",
      " [[-2 -5  0]\n",
      " [ 1  3  1]\n",
      " [ 3 11  7]\n",
      " [ 1  7  5]]\n"
     ]
    },
    {
     "data": {
      "text/latex": [
       "$\\displaystyle \\left[\\begin{matrix}1 & 0 & 1 & 0 & 1\\\\0 & 1 & -2 & 0 & 3\\\\0 & 0 & 0 & 1 & -5\\\\0 & 0 & 0 & 0 & 0\\end{matrix}\\right]$"
      ],
      "text/plain": [
       "Matrix([\n",
       "[1, 0,  1, 0,  1],\n",
       "[0, 1, -2, 0,  3],\n",
       "[0, 0,  0, 1, -5],\n",
       "[0, 0,  0, 0,  0]])"
      ]
     },
     "execution_count": 3,
     "metadata": {},
     "output_type": "execute_result"
    }
   ],
   "source": [
    "# Row Space, Column space\n",
    "\n",
    "import sympy as sym\n",
    "\n",
    "import numpy as np\n",
    "\n",
    "A = [[-2,-5,8,0,-17],[1,3,-5,1,5],[3,11,-19,7,1],[1,7,-13,5,-3]]\n",
    "\n",
    "B,i = sym.Matrix(A).rref()\n",
    "\n",
    "print(B)\n",
    "\n",
    "print(i)\n",
    "\n",
    "print(len(i))\n",
    "\n",
    "\n",
    "\n",
    "# Row Space of A\n",
    "\n",
    "R = np.array(B)\n",
    "\n",
    "print(\"\\nRow Space: \\n\",R[:len(i),:])\n",
    "\n",
    "\n",
    "\n",
    "# Column space of A\n",
    "\n",
    "C = np.array(A)\n",
    "\n",
    "print(\"\\nColumn Space: \\n\",C[:,i])\n",
    "B"
   ]
  },
  {
   "cell_type": "code",
   "execution_count": 21,
   "metadata": {},
   "outputs": [
    {
     "name": "stdout",
     "output_type": "stream",
     "text": [
      "Matrix([[-2, -5, 8, 0, -17], [1, 3, -5, 1, 5], [3, 11, -19, 7, 1], [1, 7, -13, 5, -3]])\n",
      "\n",
      "Null Space: \n",
      " [Matrix([\n",
      "[-1],\n",
      "[ 2],\n",
      "[ 1],\n",
      "[ 0],\n",
      "[ 0]]), Matrix([\n",
      "[-1],\n",
      "[-3],\n",
      "[ 0],\n",
      "[ 5],\n",
      "[ 1]])]\n"
     ]
    },
    {
     "data": {
      "text/latex": [
       "$\\displaystyle \\left[\\begin{matrix}-2 & -5 & 8 & 0 & -17\\\\1 & 3 & -5 & 1 & 5\\\\3 & 11 & -19 & 7 & 1\\\\1 & 7 & -13 & 5 & -3\\end{matrix}\\right]$"
      ],
      "text/plain": [
       "Matrix([\n",
       "[-2, -5,   8, 0, -17],\n",
       "[ 1,  3,  -5, 1,   5],\n",
       "[ 3, 11, -19, 7,   1],\n",
       "[ 1,  7, -13, 5,  -3]])"
      ]
     },
     "execution_count": 21,
     "metadata": {},
     "output_type": "execute_result"
    }
   ],
   "source": [
    "# Null space and Left null space\n",
    "\n",
    "from sympy import Matrix\n",
    "\n",
    "A = [[-2,-5,8,0,-17],[1,3,-5,1,5],[3,11,-19,7,1],[1,7,-13,5,-3]]\n",
    "\n",
    "A = Matrix(A)\n",
    "\n",
    "A * A.nullspace()[0]\n",
    "print(A)\n",
    "print(\"\\nNull Space: \\n\",A.nullspace())\n",
    "A"
   ]
  },
  {
   "cell_type": "code",
   "execution_count": 18,
   "metadata": {},
   "outputs": [
    {
     "name": "stdout",
     "output_type": "stream",
     "text": [
      "Matrix([[-2, -5, 8, 0, -17], [1, 3, -5, 1, 5], [3, 11, -19, 7, 1], [1, 7, -13, 5, -3]])\n",
      "\n",
      "Null Space: \n",
      " [Matrix([\n",
      "[-1],\n",
      "[ 2],\n",
      "[ 1],\n",
      "[ 0],\n",
      "[ 0]]), Matrix([\n",
      "[-1],\n",
      "[-3],\n",
      "[ 0],\n",
      "[ 5],\n",
      "[ 1]])]\n",
      "Matrix([[-2, 1, 3, 1], [-5, 3, 11, 7], [8, -5, -19, -13], [0, 1, 7, 5], [-17, 5, 1, -3]])\n",
      "\n",
      "Left Null Space: \n",
      " [Matrix([\n",
      "[-2],\n",
      "[-7],\n",
      "[ 1],\n",
      "[ 0]])]\n"
     ]
    },
    {
     "data": {
      "text/latex": [
       "$\\displaystyle \\left[\\begin{matrix}-2 & -5 & 8 & 0 & -17\\\\1 & 3 & -5 & 1 & 5\\\\3 & 11 & -19 & 7 & 1\\\\1 & 7 & -13 & 5 & -3\\end{matrix}\\right]$"
      ],
      "text/plain": [
       "Matrix([\n",
       "[-2, -5,   8, 0, -17],\n",
       "[ 1,  3,  -5, 1,   5],\n",
       "[ 3, 11, -19, 7,   1],\n",
       "[ 1,  7, -13, 5,  -3]])"
      ]
     },
     "execution_count": 18,
     "metadata": {},
     "output_type": "execute_result"
    }
   ],
   "source": [
    "#Transpose of a Matrix\n",
    "\n",
    "LN = A.T\n",
    "\n",
    "print(LN)\n",
    "\n",
    "\n",
    "\n",
    "#Left Null SPace\n",
    "\n",
    "LN * LN.nullspace()[0]\n",
    "\n",
    "print(\"\\nLeft Null Space: \\n\",LN.nullspace())\n",
    "A"
   ]
  },
  {
   "cell_type": "code",
   "execution_count": 95,
   "metadata": {},
   "outputs": [
    {
     "name": "stdout",
     "output_type": "stream",
     "text": [
      "\n",
      "Row Space: \n",
      " [[2 -1 1 -6 8]\n",
      " [1 -2 -4 3 -2]]\n",
      "\n",
      "Column Space: \n",
      " [[2 -1]\n",
      " [1 -2]\n",
      " [-7 8]\n",
      " [4 -5]]\n"
     ]
    },
    {
     "data": {
      "text/latex": [
       "$\\displaystyle \\left[\\begin{matrix}1 & 0 & 2 & -5 & 6\\\\0 & 1 & 3 & -4 & 4\\\\0 & 0 & 0 & 0 & 0\\\\0 & 0 & 0 & 0 & 0\\end{matrix}\\right]$"
      ],
      "text/plain": [
       "Matrix([\n",
       "[1, 0, 2, -5, 6],\n",
       "[0, 1, 3, -4, 4],\n",
       "[0, 0, 0,  0, 0],\n",
       "[0, 0, 0,  0, 0]])"
      ]
     },
     "execution_count": 95,
     "metadata": {},
     "output_type": "execute_result"
    }
   ],
   "source": [
    "R = np.array(A2)\n",
    "print(\"\\nRow Space: \\n\",R[:len(i),:])\n",
    "\n",
    "\n",
    "C = np.array(A2)\n",
    "print(\"\\nColumn Space: \\n\",C[:,i])\n",
    "B"
   ]
  },
  {
   "cell_type": "code",
   "execution_count": 58,
   "metadata": {},
   "outputs": [
    {
     "name": "stdout",
     "output_type": "stream",
     "text": [
      "Array is : [[1 0]\n",
      " [0 5]]\n",
      "Eigen value is : [1. 5.]\n",
      "Eigen vector is : [[1. 0.]\n",
      " [0. 1.]]\n"
     ]
    }
   ],
   "source": [
    "import numpy as np\n",
    "\n",
    "from numpy import linalg as lialg\n",
    "\n",
    "\n",
    "\n",
    "A = np.array([[6, 1, 1],\n",
    "              [4, -2, 5],\n",
    "              [2, 8, 7]])\n",
    "\n",
    "\n",
    "\n",
    " # Creating an array\n",
    "\n",
    "a = np.array([[1, 0], [0, 5]])\n",
    "\n",
    "\n",
    "print(\"Array is :\",a)\n",
    "\n",
    "\n",
    " # calculating an eigen value\n",
    "\n",
    " # using eigh() function\n",
    "\n",
    "c, d = lialg.eig(a)\n",
    "\n",
    "\n",
    "print(\"Eigen value is :\", c)\n",
    "\n",
    "print(\"Eigen vector is :\", d)"
   ]
  },
  {
   "cell_type": "code",
   "execution_count": 60,
   "metadata": {},
   "outputs": [
    {
     "name": "stdout",
     "output_type": "stream",
     "text": [
      "\n",
      "Determinant of A: -306.0\n"
     ]
    }
   ],
   "source": [
    "# Determinant\n",
    "\n",
    " # numpy.linalg.det() method\n",
    "\n",
    "\n",
    "import numpy as np\n",
    "\n",
    "A = np.array([[6, 1, 1],\n",
    "              [4, -2, 5],\n",
    "              [2, 8, 7]])\n",
    "\n",
    "\n",
    "\n",
    "print(\"\\nDeterminant of A:\",np.linalg.det(A))"
   ]
  },
  {
   "cell_type": "code",
   "execution_count": 2,
   "metadata": {},
   "outputs": [
    {
     "ename": "NameError",
     "evalue": "name 'sym' is not defined",
     "output_type": "error",
     "traceback": [
      "\u001b[1;31m---------------------------------------------------------------------------\u001b[0m",
      "\u001b[1;31mNameError\u001b[0m                                 Traceback (most recent call last)",
      "\u001b[1;32m<ipython-input-2-27cca33f2531>\u001b[0m in \u001b[0;36m<module>\u001b[1;34m\u001b[0m\n\u001b[0;32m      7\u001b[0m \u001b[1;33m\u001b[0m\u001b[0m\n\u001b[0;32m      8\u001b[0m \u001b[0mA1\u001b[0m \u001b[1;33m=\u001b[0m \u001b[0mMatrix\u001b[0m\u001b[1;33m(\u001b[0m\u001b[0mA\u001b[0m\u001b[1;33m)\u001b[0m\u001b[1;33m\u001b[0m\u001b[1;33m\u001b[0m\u001b[0m\n\u001b[1;32m----> 9\u001b[1;33m \u001b[0mB\u001b[0m\u001b[1;33m,\u001b[0m\u001b[0mi\u001b[0m\u001b[1;33m=\u001b[0m \u001b[0msym\u001b[0m\u001b[1;33m.\u001b[0m\u001b[0mMatrix\u001b[0m\u001b[1;33m(\u001b[0m\u001b[0mA1\u001b[0m\u001b[1;33m)\u001b[0m\u001b[1;33m.\u001b[0m\u001b[0mrref\u001b[0m\u001b[1;33m(\u001b[0m\u001b[1;33m)\u001b[0m\u001b[1;33m\u001b[0m\u001b[1;33m\u001b[0m\u001b[0m\n\u001b[0m\u001b[0;32m     10\u001b[0m \u001b[1;33m\u001b[0m\u001b[0m\n\u001b[0;32m     11\u001b[0m \u001b[0mColA\u001b[0m\u001b[1;33m=\u001b[0m\u001b[0mA\u001b[0m\u001b[1;33m[\u001b[0m\u001b[1;33m:\u001b[0m\u001b[1;33m,\u001b[0m\u001b[0mi\u001b[0m\u001b[1;33m]\u001b[0m\u001b[1;33m\u001b[0m\u001b[1;33m\u001b[0m\u001b[0m\n",
      "\u001b[1;31mNameError\u001b[0m: name 'sym' is not defined"
     ]
    }
   ],
   "source": [
    "from sympy import Matrix\n",
    "\n",
    "A = [[-2,-5,8,0,-17],\n",
    "     [1,3,-5,1,5],\n",
    "     [3,11,-19,7,1],\n",
    "     [1,7,-13,5,-3]]\n",
    "\n",
    "A = Matrix(A)\n",
    "B,i= sym.Matrix(A1).rref()\n",
    "\n",
    "ColA=A[:,i]\n",
    "ColA"
   ]
  },
  {
   "cell_type": "code",
   "execution_count": 12,
   "metadata": {},
   "outputs": [
    {
     "name": "stdout",
     "output_type": "stream",
     "text": [
      "[Matrix([\n",
      "[-2],\n",
      "[-3],\n",
      "[ 1],\n",
      "[ 0],\n",
      "[ 0]]), Matrix([\n",
      "[5],\n",
      "[4],\n",
      "[0],\n",
      "[1],\n",
      "[0]]), Matrix([\n",
      "[-6],\n",
      "[-4],\n",
      "[ 0],\n",
      "[ 0],\n",
      "[ 1]])]\n"
     ]
    }
   ],
   "source": [
    "A * A.nullspace()[0]\n",
    "nulA=A.nullspace()\n",
    "print(nulA)"
   ]
  },
  {
   "cell_type": "code",
   "execution_count": 16,
   "metadata": {
    "scrolled": true
   },
   "outputs": [
    {
     "name": "stdout",
     "output_type": "stream",
     "text": [
      "Rank= 2\n",
      "[Matrix([\n",
      "[-2],\n",
      "[-3],\n",
      "[ 1],\n",
      "[ 0],\n",
      "[ 0]]), Matrix([\n",
      "[5],\n",
      "[4],\n",
      "[0],\n",
      "[1],\n",
      "[0]]), Matrix([\n",
      "[-6],\n",
      "[-4],\n",
      "[ 0],\n",
      "[ 0],\n",
      "[ 1]])]\n",
      "Dim of NulA: 5 3\n"
     ]
    }
   ],
   "source": [
    "A=[[2,-1,1,-6,8],\n",
    "   [1,-2,-4,3,-2],\n",
    "   [-7,8,10,3,-10],\n",
    "   [4,-5,-7,0,4]]\n",
    "B=[[1,-2,-4,3,-2],\n",
    "    [0,3,9,-12,12],\n",
    "    [0,0,0,0,0,0],\n",
    "    [0,0,0,0,0]]\n",
    "A=Matrix(A)\n",
    "B,i = sym.Matrix(A).rref()\n",
    "print(\"Rank=\",len(i))\n",
    "\n",
    "nulA=A.nullspace()\n",
    "print(nulA)\n",
    "print(\"Dimension of Nul A:\",len(A[0,:]),len(nulA))"
   ]
  }
 ],
 "metadata": {
  "kernelspec": {
   "display_name": "Python 3",
   "language": "python",
   "name": "python3"
  },
  "language_info": {
   "codemirror_mode": {
    "name": "ipython",
    "version": 3
   },
   "file_extension": ".py",
   "mimetype": "text/x-python",
   "name": "python",
   "nbconvert_exporter": "python",
   "pygments_lexer": "ipython3",
   "version": "3.8.3"
  }
 },
 "nbformat": 4,
 "nbformat_minor": 4
}
