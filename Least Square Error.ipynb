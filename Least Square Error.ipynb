{
 "cells": [
  {
   "cell_type": "code",
   "execution_count": 1,
   "metadata": {},
   "outputs": [
    {
     "name": "stdout",
     "output_type": "stream",
     "text": [
      "Solution :\n",
      " [[1.]\n",
      " [2.]]\n",
      "Least Square Error: \n",
      " [9.16515139]\n"
     ]
    }
   ],
   "source": [
    "import numpy as np\n",
    "# Least Square Solution\n",
    "\n",
    "A = np.array([[4,0],\n",
    "              [0,2],\n",
    "              [1,1]])\n",
    "\n",
    "b = np.array([[2,0,11]]).T # transpose to align dimensions\n",
    "\n",
    "x, residuals, rank, s = np.linalg.lstsq(A,b,rcond=None)\n",
    "\n",
    "print('Solution :\\n',x)\n",
    "\n",
    "print('Least Square Error: \\n',np.sqrt(residuals))"
   ]
  },
  {
   "cell_type": "code",
   "execution_count": 2,
   "metadata": {},
   "outputs": [
    {
     "name": "stdout",
     "output_type": "stream",
     "text": [
      "Solution :\n",
      " [[3.]\n",
      " [2.]]\n",
      "Least Square Error: \n",
      " [3.31662479]\n"
     ]
    }
   ],
   "source": [
    "import numpy as np\n",
    "# Least Square Solution\n",
    "\n",
    "A = np.array([[-1,2],\n",
    "              [2,-3],\n",
    "              [-1,3]])\n",
    "\n",
    "b = np.array([[4,1,2]]).T # transpose to align dimensions\n",
    "\n",
    "x, residuals, rank, s = np.linalg.lstsq(A,b,rcond=None)\n",
    "\n",
    "print('Solution :\\n',x)\n",
    "\n",
    "print('Least Square Error: \\n',np.sqrt(residuals))"
   ]
  },
  {
   "cell_type": "code",
   "execution_count": 3,
   "metadata": {},
   "outputs": [
    {
     "name": "stdout",
     "output_type": "stream",
     "text": [
      "Solution :\n",
      " [[-4.]\n",
      " [ 3.]]\n",
      "Least Square Error: \n",
      " [4.36454766e-16]\n"
     ]
    }
   ],
   "source": [
    "import numpy as np\n",
    "# Least Square Solution\n",
    "\n",
    "A = np.array([[2,1],\n",
    "              [-2,0],\n",
    "              [2,3]])\n",
    "\n",
    "b = np.array([[-5,8,1]]).T # transpose to align dimensions\n",
    "\n",
    "x, residuals, rank, s = np.linalg.lstsq(A,b,rcond=None)\n",
    "\n",
    "print('Solution :\\n',x)\n",
    "\n",
    "print('Least Square Error: \\n',np.sqrt(residuals))"
   ]
  },
  {
   "cell_type": "code",
   "execution_count": 4,
   "metadata": {},
   "outputs": [
    {
     "name": "stdout",
     "output_type": "stream",
     "text": [
      "Solution :\n",
      " [[ 1.33333333]\n",
      " [-0.33333333]]\n",
      "Least Square Error: \n",
      " [4.47213595]\n"
     ]
    }
   ],
   "source": [
    "import numpy as np\n",
    "# Least Square Solution\n",
    "\n",
    "A = np.array([[1,-2],\n",
    "              [-1,2],\n",
    "              [0,3],\n",
    "              [2,5]])\n",
    "\n",
    "b = np.array([[3,1,-4,2]]).T # transpose to align dimensions\n",
    "\n",
    "x, residuals, rank, s = np.linalg.lstsq(A,b,rcond=None)\n",
    "\n",
    "print('Solution :\\n',x)\n",
    "\n",
    "print('Least Square Error: \\n',np.sqrt(residuals))"
   ]
  },
  {
   "cell_type": "code",
   "execution_count": 5,
   "metadata": {},
   "outputs": [
    {
     "name": "stdout",
     "output_type": "stream",
     "text": [
      "Solution :\n",
      " [[1.]\n",
      " [1.]]\n",
      "Least Square Error: \n",
      " [2.44948974]\n"
     ]
    }
   ],
   "source": [
    "import numpy as np\n",
    "# Least Square Solution\n",
    "\n",
    "A = np.array([[1,3],\n",
    "              [1,-1],\n",
    "              [1,1]])\n",
    "\n",
    "b = np.array([[5,1,0]]).T # transpose to align dimensions\n",
    "\n",
    "x, residuals, rank, s = np.linalg.lstsq(A,b,rcond=None)\n",
    "\n",
    "print('Solution :\\n',x)\n",
    "\n",
    "print('Least Square Error: \\n',np.sqrt(residuals))"
   ]
  },
  {
   "cell_type": "code",
   "execution_count": 6,
   "metadata": {},
   "outputs": [
    {
     "name": "stdout",
     "output_type": "stream",
     "text": [
      "Solution :\n",
      " [[ 2.33333333]\n",
      " [-0.33333333]\n",
      " [ 2.66666667]]\n",
      "Least Square Error: \n",
      " []\n"
     ]
    }
   ],
   "source": [
    "import numpy as np\n",
    "# Least Square Solution\n",
    "\n",
    "A = np.array([[1,1,0],\n",
    "              [1,1,0],\n",
    "              [1,0,1],\n",
    "              [1,0,1]])\n",
    "\n",
    "b = np.array([[1,3,8,2]]).T # transpose to align dimensions\n",
    "\n",
    "x, residuals, rank, s = np.linalg.lstsq(A,b,rcond=None)\n",
    "\n",
    "print('Solution :\\n',x)\n",
    "\n",
    "print('Least Square Error: \\n',np.sqrt(residuals))"
   ]
  },
  {
   "cell_type": "code",
   "execution_count": 7,
   "metadata": {},
   "outputs": [
    {
     "name": "stdout",
     "output_type": "stream",
     "text": [
      "Solution :\n",
      " [[3.]\n",
      " [1.]\n",
      " [2.]]\n",
      "Least Square Error: \n",
      " []\n"
     ]
    }
   ],
   "source": [
    "import numpy as np\n",
    "# Least Square Solution\n",
    "\n",
    "A = np.array([[1,1,0],\n",
    "              [1,1,0],\n",
    "              [1,1,0],\n",
    "              [1,0,1],\n",
    "              [1,0,1],\n",
    "              [1,0,1]])\n",
    "\n",
    "b = np.array([[7,2,3,6,5,4]]).T # transpose to align dimensions\n",
    "\n",
    "x, residuals, rank, s = np.linalg.lstsq(A,b,rcond=None)\n",
    "\n",
    "print('Solution :\\n',x)\n",
    "\n",
    "print('Least Square Error: \\n',np.sqrt(residuals))"
   ]
  },
  {
   "cell_type": "code",
   "execution_count": 8,
   "metadata": {},
   "outputs": [
    {
     "name": "stdout",
     "output_type": "stream",
     "text": [
      "Solution :\n",
      " [[0.28571429]\n",
      " [0.14285714]]\n",
      "Least Square Error: \n",
      " [5.19615242]\n"
     ]
    }
   ],
   "source": [
    "import numpy as np\n",
    "# Least Square Solution\n",
    "\n",
    "A = np.array([[1,5],\n",
    "              [3,1],\n",
    "              [-2,4]])\n",
    "\n",
    "b = np.array([[4,-2,-3]]).T # transpose to align dimensions\n",
    "\n",
    "x, residuals, rank, s = np.linalg.lstsq(A,b,rcond=None)\n",
    "\n",
    "print('Solution :\\n',x)\n",
    "\n",
    "print('Least Square Error: \\n',np.sqrt(residuals))"
   ]
  },
  {
   "cell_type": "code",
   "execution_count": 9,
   "metadata": {},
   "outputs": [
    {
     "name": "stdout",
     "output_type": "stream",
     "text": [
      "Solution :\n",
      " [[3. ]\n",
      " [0.5]]\n",
      "Least Square Error: \n",
      " [1.41421356]\n"
     ]
    }
   ],
   "source": [
    "import numpy as np\n",
    "# Least Square Solution\n",
    "\n",
    "A = np.array([[1,2],\n",
    "              [-1,4],\n",
    "              [1,2]])\n",
    "\n",
    "b = np.array([[3,-1,5]]).T # transpose to align dimensions\n",
    "\n",
    "x, residuals, rank, s = np.linalg.lstsq(A,b,rcond=None)\n",
    "\n",
    "print('Solution :\\n',x)\n",
    "\n",
    "print('Least Square Error: \\n',np.sqrt(residuals))"
   ]
  },
  {
   "cell_type": "code",
   "execution_count": 10,
   "metadata": {},
   "outputs": [
    {
     "name": "stdout",
     "output_type": "stream",
     "text": [
      "Solution :\n",
      " [[ 6.66666667e-01]\n",
      " [-5.55111512e-17]\n",
      " [ 3.33333333e-01]]\n",
      "Least Square Error: \n",
      " [7.34846923]\n"
     ]
    }
   ],
   "source": [
    "import numpy as np\n",
    "import sympy as sym\n",
    "# Least Square Solution\n",
    "\n",
    "A = np.array([[4,0,1],\n",
    "              [1,-5,1],\n",
    "              [6,1,0],\n",
    "              [1,-1,-5]])\n",
    "\n",
    "b = np.array([[9,0,0,0]]).T# transpose to align dimensions\n",
    "\n",
    "\n",
    "x, residuals, rank, s = np.linalg.lstsq(A,b,rcond=None)\n",
    "\n",
    "print('Solution :\\n',x)\n",
    "\n",
    "print('Least Square Error: \\n',np.sqrt(residuals))"
   ]
  },
  {
   "cell_type": "code",
   "execution_count": 11,
   "metadata": {},
   "outputs": [
    {
     "name": "stdout",
     "output_type": "stream",
     "text": [
      "Solution :\n",
      " [[ 0.33333333]\n",
      " [ 4.66666667]\n",
      " [-1.66666667]]\n",
      "Least Square Error: \n",
      " [5.19615242]\n"
     ]
    }
   ],
   "source": [
    "import numpy as np\n",
    "# Least Square Solution\n",
    "\n",
    "A = np.array([[1,1,0],\n",
    "              [1,0,-1],\n",
    "              [0,1,1],\n",
    "              [-1,1,-1]])\n",
    "\n",
    "b = np.array([[2,5,6,6]]).T # transpose to align dimensions\n",
    "\n",
    "x, residuals, rank, s = np.linalg.lstsq(A,b,rcond=None)\n",
    "\n",
    "print('Solution :\\n',x)\n",
    "\n",
    "print('Least Square Error: \\n',np.sqrt(residuals))"
   ]
  },
  {
   "cell_type": "code",
   "execution_count": 12,
   "metadata": {},
   "outputs": [
    {
     "name": "stdout",
     "output_type": "stream",
     "text": [
      "Au =\n",
      " [[ 11]\n",
      " [-11]\n",
      " [ 11]]\n",
      "Av =\n",
      " [[  7]\n",
      " [-12]\n",
      " [  7]]\n",
      "Solution :\n",
      " [[ 4.]\n",
      " [-1.]]\n",
      "Least Square Error: \n",
      " [4.24264069]\n"
     ]
    }
   ],
   "source": [
    "A = np.array([[3,4],\n",
    "              [-2,1],\n",
    "              [3,4]])\n",
    "\n",
    "b = np.array([[11],\n",
    "             [-9],\n",
    "             [5]])\n",
    "\n",
    "u = np.array([[5],\n",
    "             [-1]])\n",
    "\n",
    "v = np.array([[5],\n",
    "             [-2]])\n",
    "\n",
    "print(\"Au =\\n\",np.matmul(A, u))\n",
    "print(\"Av =\\n\",np.matmul(A, v))\n",
    "\n",
    "x, residuals, rank, s = np.linalg.lstsq(A,b,rcond=None)\n",
    "\n",
    "print('Solution :\\n',x)\n",
    "\n",
    "print('Least Square Error: \\n',np.sqrt(residuals))"
   ]
  },
  {
   "cell_type": "code",
   "execution_count": 13,
   "metadata": {
    "scrolled": true
   },
   "outputs": [
    {
     "name": "stdout",
     "output_type": "stream",
     "text": [
      "Solution :\n",
      " [[ 4.]\n",
      " [-1.]]\n"
     ]
    }
   ],
   "source": [
    "import numpy as np\n",
    "# Least Square Solution\n",
    "\n",
    "R =  np.array([[3,5],\n",
    "               [0,1]])\n",
    "\n",
    "b = np.array([[7,3,1]]).T # transpose to align dimensions\n",
    "\n",
    "Q = np.array([[2/3,-1/3],\n",
    "             [2/3,2/3],\n",
    "             [1/3,-2/3]]).T\n",
    "\n",
    "b = np.dot(Q,b)\n",
    "\n",
    "x, residuals, rank, s = np.linalg.lstsq(R,b,rcond=None)\n",
    "\n",
    "print('Solution :\\n',x)"
   ]
  },
  {
   "cell_type": "code",
   "execution_count": 14,
   "metadata": {},
   "outputs": [
    {
     "name": "stdout",
     "output_type": "stream",
     "text": [
      "Solution :\n",
      " [[2.9]\n",
      " [0.9]]\n"
     ]
    }
   ],
   "source": [
    "import numpy as np\n",
    "# Least Square Solution\n",
    "\n",
    "R =  np.array([[2,3],\n",
    "               [0,5]])\n",
    "\n",
    "b = np.array([[-1,6,5,7]]).T # transpose to align dimensions\n",
    "\n",
    "Q = np.array([[1/2,-1/2],\n",
    "              [1/2,1/2],\n",
    "              [1/2,-1/2],\n",
    "              [1/2,1/2]]).T\n",
    "\n",
    "b = np.dot(Q,b)\n",
    "\n",
    "x, residuals, rank, s = np.linalg.lstsq(R,b,rcond=None)\n",
    "\n",
    "print('Solution :\\n',x)"
   ]
  }
 ],
 "metadata": {
  "kernelspec": {
   "display_name": "Python 3",
   "language": "python",
   "name": "python3"
  },
  "language_info": {
   "codemirror_mode": {
    "name": "ipython",
    "version": 3
   },
   "file_extension": ".py",
   "mimetype": "text/x-python",
   "name": "python",
   "nbconvert_exporter": "python",
   "pygments_lexer": "ipython3",
   "version": "3.8.3"
  }
 },
 "nbformat": 4,
 "nbformat_minor": 4
}
