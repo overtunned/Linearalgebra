{
 "cells": [
  {
   "cell_type": "code",
   "execution_count": 3,
   "metadata": {},
   "outputs": [
    {
     "data": {
      "image/png": "[encoded data removed]",
      "text/plain": [
       "<Figure size 432x288 with 1 Axes>"
      ]
     },
     "metadata": {
      "needs_background": "light"
     },
     "output_type": "display_data"
    }
   ],
   "source": [
    "import matplotlib.pyplot as plt\n",
    "import numpy as np\n",
    "\n",
    "%matplotlib inline\n",
    "\n",
    "fig, ax = plt.subplots()\n",
    "\n",
    "Origin = [0,0]\n",
    "v1 = [3,3]\n",
    "v2 = [2,3]\n",
    "\n",
    "ax.quiver(*Origin,*v1,color = 'red',scale=10)\n",
    "ax.quiver(*Origin,*v2,color = 'blue',scale=10)\n",
    "\n",
    "ax.axis([-10,10,-10,10])\n",
    "plt.show()"
   ]
  },
  {
   "cell_type": "code",
   "execution_count": 4,
   "metadata": {},
   "outputs": [
    {
     "name": "stdout",
     "output_type": "stream",
     "text": [
      "Projection of y onto u:  [2.5 2.5]\n",
      "Orthogonal Complement of p:  [-0.5  0.5]\n"
     ]
    },
    {
     "data": {
      "image/png": "[encoded data removed]",
      "text/plain": [
       "<Figure size 432x288 with 1 Axes>"
      ]
     },
     "metadata": {
      "needs_background": "light"
     },
     "output_type": "display_data"
    }
   ],
   "source": [
    "import matplotlib.pyplot as plt\n",
    "import numpy as np\n",
    "\n",
    "#add %matplotlib inline if using a Jupyter notebook, remove if using a .py script\n",
    "%matplotlib inline\n",
    "\n",
    "fig, ax = plt.subplots()\n",
    "\n",
    "origin = [0,0]\n",
    "u = [3,3]\n",
    "y = [2,3]\n",
    "\n",
    "\n",
    "#Scalar:\n",
    "c = (np.dot(y,u)/np.dot(u,u))\n",
    "\n",
    "\n",
    "# Projection of y on u\n",
    "p = np.array(u)*c\n",
    "\n",
    "\n",
    "print('Projection of y onto u: ',p)\n",
    "print('Orthogonal Complement of p: ',y-p)\n",
    "\n",
    "\n",
    "ax.quiver(*Origin,*u,color = 'red',scale=10)\n",
    "ax.quiver(*Origin,*y,color = 'blue',scale=10)\n",
    "\n",
    "\n",
    "# Plotting the Projection:\n",
    "ax.quiver(*Origin,*p,color = 'green',scale=10)\n",
    "\n",
    "\n",
    "# Plotting orthogonal complement:\n",
    "ax.quiver(*Origin,*(y-p),color='green',scale=10)\n",
    "\n",
    "\n",
    "ax.axis([-10,10,-10,10])\n",
    "plt.show()"
   ]
  },
  {
   "cell_type": "markdown",
   "metadata": {},
   "source": [
    "Question 1"
   ]
  },
  {
   "cell_type": "code",
   "execution_count": null,
   "metadata": {},
   "outputs": [],
   "source": []
  }
 ],
 "metadata": {
  "kernelspec": {
   "display_name": "Python 3",
   "language": "python",
   "name": "python3"
  },
  "language_info": {
   "codemirror_mode": {
    "name": "ipython",
    "version": 3
   },
   "file_extension": ".py",
   "mimetype": "text/x-python",
   "name": "python",
   "nbconvert_exporter": "python",
   "pygments_lexer": "ipython3",
   "version": "3.8.3"
  }
 },
 "nbformat": 4,
 "nbformat_minor": 4
}
